{
 "cells": [
  {
   "cell_type": "markdown",
   "metadata": {},
   "source": [
    "# Final Project: Part 1 EDA\n",
    "## Ryan Engel"
   ]
  },
  {
   "cell_type": "markdown",
   "metadata": {},
   "source": [
    "In this exploratory data analysis, we shall look at what makes a business successful as measured by a high star rating. Because I have always thought owning a restaurant would be an interesting experience, we shall look at what makes one sucessful."
   ]
  },
  {
   "cell_type": "code",
   "execution_count": 1,
   "metadata": {},
   "outputs": [],
   "source": [
    "#First we load the libraries required for analysis and our first dataset, which contains infomation on businesses and attributes\n",
    "\n",
    "import numpy as np\n",
    "import pandas as pd\n",
    "from matplotlib import pyplot as plt\n",
    "%matplotlib inline\n",
    "plt.style.use('fivethirtyeight')\n",
    "\n",
    "businesses = pd.read_csv('data-sets/yelp_academic_dataset_business.csv')\n",
    "checkin = pd.read_csv('data-sets/yelp_academic_dataset_checkin.csv')"
   ]
  },
  {
   "cell_type": "code",
   "execution_count": 2,
   "metadata": {
    "scrolled": true
   },
   "outputs": [
    {
     "name": "stdout",
     "output_type": "stream",
     "text": [
      "<class 'pandas.core.frame.DataFrame'>\n",
      "RangeIndex: 188593 entries, 0 to 188592\n",
      "Data columns (total 61 columns):\n",
      "address                                  180970 non-null object\n",
      "attributes                               0 non-null float64\n",
      "attributes.AcceptsInsurance              11671 non-null object\n",
      "attributes.AgesAllowed                   397 non-null object\n",
      "attributes.Alcohol                       47892 non-null object\n",
      "attributes.Ambience                      47577 non-null object\n",
      "attributes.BYOB                          911 non-null object\n",
      "attributes.BYOBCorkage                   1409 non-null object\n",
      "attributes.BestNights                    6844 non-null object\n",
      "attributes.BikeParking                   84891 non-null object\n",
      "attributes.BusinessAcceptsBitcoin        12674 non-null object\n",
      "attributes.BusinessAcceptsCreditCards    140391 non-null object\n",
      "attributes.BusinessParking               103424 non-null object\n",
      "attributes.ByAppointmentOnly             45423 non-null object\n",
      "attributes.Caters                        40038 non-null object\n",
      "attributes.CoatCheck                     8531 non-null object\n",
      "attributes.Corkage                       657 non-null object\n",
      "attributes.DietaryRestrictions           138 non-null object\n",
      "attributes.DogsAllowed                   13681 non-null object\n",
      "attributes.DriveThru                     6754 non-null object\n",
      "attributes.GoodForDancing                9162 non-null object\n",
      "attributes.GoodForKids                   64931 non-null object\n",
      "attributes.GoodForMeal                   47483 non-null object\n",
      "attributes.HairSpecializesIn             1881 non-null object\n",
      "attributes.HappyHour                     9285 non-null object\n",
      "attributes.HasTV                         47533 non-null object\n",
      "attributes.Music                         8807 non-null object\n",
      "attributes.NoiseLevel                    43710 non-null object\n",
      "attributes.Open24Hours                   352 non-null object\n",
      "attributes.OutdoorSeating                54181 non-null object\n",
      "attributes.RestaurantsAttire             48182 non-null object\n",
      "attributes.RestaurantsCounterService     397 non-null object\n",
      "attributes.RestaurantsDelivery           51668 non-null object\n",
      "attributes.RestaurantsGoodForGroups      53839 non-null object\n",
      "attributes.RestaurantsPriceRange2        107120 non-null float64\n",
      "attributes.RestaurantsReservations       51363 non-null object\n",
      "attributes.RestaurantsTableService       43325 non-null object\n",
      "attributes.RestaurantsTakeOut            61206 non-null object\n",
      "attributes.Smoking                       8113 non-null object\n",
      "attributes.WheelchairAccessible          52023 non-null object\n",
      "attributes.WiFi                          49026 non-null object\n",
      "business_id                              188593 non-null object\n",
      "categories                               188052 non-null object\n",
      "city                                     188583 non-null object\n",
      "hours                                    0 non-null float64\n",
      "hours.Friday                             141796 non-null object\n",
      "hours.Monday                             132761 non-null object\n",
      "hours.Saturday                           125376 non-null object\n",
      "hours.Sunday                             93387 non-null object\n",
      "hours.Thursday                           142359 non-null object\n",
      "hours.Tuesday                            140607 non-null object\n",
      "hours.Wednesday                          141843 non-null object\n",
      "is_open                                  188593 non-null int64\n",
      "latitude                                 188587 non-null float64\n",
      "longitude                                188587 non-null float64\n",
      "name                                     188593 non-null object\n",
      "neighborhood                             68655 non-null object\n",
      "postal_code                              187912 non-null object\n",
      "review_count                             188593 non-null int64\n",
      "stars                                    188593 non-null float64\n",
      "state                                    188593 non-null object\n",
      "dtypes: float64(6), int64(2), object(53)\n",
      "memory usage: 87.8+ MB\n"
     ]
    }
   ],
   "source": [
    "#Taking a look at the variables available to us...\n",
    "businesses.info()"
   ]
  },
  {
   "cell_type": "code",
   "execution_count": 3,
   "metadata": {
    "scrolled": true
   },
   "outputs": [
    {
     "data": {
      "text/html": [
       "<div>\n",
       "<style scoped>\n",
       "    .dataframe tbody tr th:only-of-type {\n",
       "        vertical-align: middle;\n",
       "    }\n",
       "\n",
       "    .dataframe tbody tr th {\n",
       "        vertical-align: top;\n",
       "    }\n",
       "\n",
       "    .dataframe thead th {\n",
       "        text-align: right;\n",
       "    }\n",
       "</style>\n",
       "<table border=\"1\" class=\"dataframe\">\n",
       "  <thead>\n",
       "    <tr style=\"text-align: right;\">\n",
       "      <th></th>\n",
       "      <th>address</th>\n",
       "      <th>attributes</th>\n",
       "      <th>attributes.AcceptsInsurance</th>\n",
       "      <th>attributes.AgesAllowed</th>\n",
       "      <th>attributes.Alcohol</th>\n",
       "      <th>attributes.Ambience</th>\n",
       "      <th>attributes.BYOB</th>\n",
       "      <th>attributes.BYOBCorkage</th>\n",
       "      <th>attributes.BestNights</th>\n",
       "      <th>attributes.BikeParking</th>\n",
       "      <th>...</th>\n",
       "      <th>hours.Wednesday</th>\n",
       "      <th>is_open</th>\n",
       "      <th>latitude</th>\n",
       "      <th>longitude</th>\n",
       "      <th>name</th>\n",
       "      <th>neighborhood</th>\n",
       "      <th>postal_code</th>\n",
       "      <th>review_count</th>\n",
       "      <th>stars</th>\n",
       "      <th>state</th>\n",
       "    </tr>\n",
       "  </thead>\n",
       "  <tbody>\n",
       "    <tr>\n",
       "      <th>0</th>\n",
       "      <td>1314 44 Avenue NE</td>\n",
       "      <td>NaN</td>\n",
       "      <td>NaN</td>\n",
       "      <td>NaN</td>\n",
       "      <td>NaN</td>\n",
       "      <td>NaN</td>\n",
       "      <td>NaN</td>\n",
       "      <td>NaN</td>\n",
       "      <td>NaN</td>\n",
       "      <td>False</td>\n",
       "      <td>...</td>\n",
       "      <td>11:0-21:0</td>\n",
       "      <td>1</td>\n",
       "      <td>51.091813</td>\n",
       "      <td>-114.031675</td>\n",
       "      <td>Minhas Micro Brewery</td>\n",
       "      <td>NaN</td>\n",
       "      <td>T2E 6L6</td>\n",
       "      <td>24</td>\n",
       "      <td>4.0</td>\n",
       "      <td>AB</td>\n",
       "    </tr>\n",
       "    <tr>\n",
       "      <th>1</th>\n",
       "      <td>NaN</td>\n",
       "      <td>NaN</td>\n",
       "      <td>NaN</td>\n",
       "      <td>NaN</td>\n",
       "      <td>none</td>\n",
       "      <td>NaN</td>\n",
       "      <td>NaN</td>\n",
       "      <td>NaN</td>\n",
       "      <td>NaN</td>\n",
       "      <td>False</td>\n",
       "      <td>...</td>\n",
       "      <td>NaN</td>\n",
       "      <td>0</td>\n",
       "      <td>35.960734</td>\n",
       "      <td>-114.939821</td>\n",
       "      <td>CK'S BBQ &amp; Catering</td>\n",
       "      <td>NaN</td>\n",
       "      <td>89002</td>\n",
       "      <td>3</td>\n",
       "      <td>4.5</td>\n",
       "      <td>NV</td>\n",
       "    </tr>\n",
       "    <tr>\n",
       "      <th>2</th>\n",
       "      <td>1335 rue Beaubien E</td>\n",
       "      <td>NaN</td>\n",
       "      <td>NaN</td>\n",
       "      <td>NaN</td>\n",
       "      <td>beer_and_wine</td>\n",
       "      <td>{'romantic': False, 'intimate': False, 'classy...</td>\n",
       "      <td>NaN</td>\n",
       "      <td>NaN</td>\n",
       "      <td>NaN</td>\n",
       "      <td>True</td>\n",
       "      <td>...</td>\n",
       "      <td>10:0-22:0</td>\n",
       "      <td>0</td>\n",
       "      <td>45.540503</td>\n",
       "      <td>-73.599300</td>\n",
       "      <td>La Bastringue</td>\n",
       "      <td>Rosemont-La Petite-Patrie</td>\n",
       "      <td>H2G 1K7</td>\n",
       "      <td>5</td>\n",
       "      <td>4.0</td>\n",
       "      <td>QC</td>\n",
       "    </tr>\n",
       "    <tr>\n",
       "      <th>3</th>\n",
       "      <td>211 W Monroe St</td>\n",
       "      <td>NaN</td>\n",
       "      <td>NaN</td>\n",
       "      <td>NaN</td>\n",
       "      <td>NaN</td>\n",
       "      <td>NaN</td>\n",
       "      <td>NaN</td>\n",
       "      <td>NaN</td>\n",
       "      <td>NaN</td>\n",
       "      <td>NaN</td>\n",
       "      <td>...</td>\n",
       "      <td>NaN</td>\n",
       "      <td>1</td>\n",
       "      <td>33.449999</td>\n",
       "      <td>-112.076979</td>\n",
       "      <td>Geico Insurance</td>\n",
       "      <td>NaN</td>\n",
       "      <td>85003</td>\n",
       "      <td>8</td>\n",
       "      <td>1.5</td>\n",
       "      <td>AZ</td>\n",
       "    </tr>\n",
       "    <tr>\n",
       "      <th>4</th>\n",
       "      <td>2005 Alyth Place SE</td>\n",
       "      <td>NaN</td>\n",
       "      <td>NaN</td>\n",
       "      <td>NaN</td>\n",
       "      <td>NaN</td>\n",
       "      <td>NaN</td>\n",
       "      <td>NaN</td>\n",
       "      <td>NaN</td>\n",
       "      <td>NaN</td>\n",
       "      <td>NaN</td>\n",
       "      <td>...</td>\n",
       "      <td>8:0-17:0</td>\n",
       "      <td>1</td>\n",
       "      <td>51.035591</td>\n",
       "      <td>-114.027366</td>\n",
       "      <td>Action Engine</td>\n",
       "      <td>NaN</td>\n",
       "      <td>T2H 0N5</td>\n",
       "      <td>4</td>\n",
       "      <td>2.0</td>\n",
       "      <td>AB</td>\n",
       "    </tr>\n",
       "  </tbody>\n",
       "</table>\n",
       "<p>5 rows × 61 columns</p>\n",
       "</div>"
      ],
      "text/plain": [
       "               address  attributes attributes.AcceptsInsurance  \\\n",
       "0    1314 44 Avenue NE         NaN                         NaN   \n",
       "1                  NaN         NaN                         NaN   \n",
       "2  1335 rue Beaubien E         NaN                         NaN   \n",
       "3      211 W Monroe St         NaN                         NaN   \n",
       "4  2005 Alyth Place SE         NaN                         NaN   \n",
       "\n",
       "  attributes.AgesAllowed attributes.Alcohol  \\\n",
       "0                    NaN                NaN   \n",
       "1                    NaN               none   \n",
       "2                    NaN      beer_and_wine   \n",
       "3                    NaN                NaN   \n",
       "4                    NaN                NaN   \n",
       "\n",
       "                                 attributes.Ambience attributes.BYOB  \\\n",
       "0                                                NaN             NaN   \n",
       "1                                                NaN             NaN   \n",
       "2  {'romantic': False, 'intimate': False, 'classy...             NaN   \n",
       "3                                                NaN             NaN   \n",
       "4                                                NaN             NaN   \n",
       "\n",
       "  attributes.BYOBCorkage attributes.BestNights attributes.BikeParking  ...   \\\n",
       "0                    NaN                   NaN                  False  ...    \n",
       "1                    NaN                   NaN                  False  ...    \n",
       "2                    NaN                   NaN                   True  ...    \n",
       "3                    NaN                   NaN                    NaN  ...    \n",
       "4                    NaN                   NaN                    NaN  ...    \n",
       "\n",
       "  hours.Wednesday is_open   latitude   longitude                  name  \\\n",
       "0       11:0-21:0       1  51.091813 -114.031675  Minhas Micro Brewery   \n",
       "1             NaN       0  35.960734 -114.939821   CK'S BBQ & Catering   \n",
       "2       10:0-22:0       0  45.540503  -73.599300         La Bastringue   \n",
       "3             NaN       1  33.449999 -112.076979       Geico Insurance   \n",
       "4        8:0-17:0       1  51.035591 -114.027366         Action Engine   \n",
       "\n",
       "                neighborhood postal_code review_count stars state  \n",
       "0                        NaN     T2E 6L6           24   4.0    AB  \n",
       "1                        NaN       89002            3   4.5    NV  \n",
       "2  Rosemont-La Petite-Patrie     H2G 1K7            5   4.0    QC  \n",
       "3                        NaN       85003            8   1.5    AZ  \n",
       "4                        NaN     T2H 0N5            4   2.0    AB  \n",
       "\n",
       "[5 rows x 61 columns]"
      ]
     },
     "execution_count": 3,
     "metadata": {},
     "output_type": "execute_result"
    }
   ],
   "source": [
    "#and what the data looks like...\n",
    "businesses.head()"
   ]
  },
  {
   "cell_type": "code",
   "execution_count": 4,
   "metadata": {},
   "outputs": [],
   "source": [
    "#By default the index is just an int value, but one of the columns is a business ID. This seems like it would make a better index\n",
    "businesses.set_index('business_id', inplace=True)"
   ]
  },
  {
   "cell_type": "code",
   "execution_count": 5,
   "metadata": {},
   "outputs": [
    {
     "data": {
      "text/plain": [
       "RangeIndex(start=0, stop=157075, step=1)"
      ]
     },
     "execution_count": 5,
     "metadata": {},
     "output_type": "execute_result"
    }
   ],
   "source": [
    "#Check if index matches business dataframe's index\n",
    "checkin.index"
   ]
  },
  {
   "cell_type": "code",
   "execution_count": 6,
   "metadata": {},
   "outputs": [
    {
     "name": "stdout",
     "output_type": "stream",
     "text": [
      "<class 'pandas.core.frame.DataFrame'>\n",
      "Index: 188593 entries, Apn5Q_b6Nz61Tq4XzPdf9A to NkOvIueadjFUxeCyq_uQEw\n",
      "Columns: 229 entries, address to time.Wed-9\n",
      "dtypes: float64(174), int64(2), object(53)\n",
      "memory usage: 335.9+ MB\n"
     ]
    }
   ],
   "source": [
    "#Now we join the businesses dataset with the other checkin dataset after changing its index as well\n",
    "businessesJoined = businesses.merge(checkin, how='left', left_index=True, right_index=True)\n",
    "businessesJoined.info()"
   ]
  },
  {
   "cell_type": "markdown",
   "metadata": {},
   "source": [
    "I'm not honestly sure what purpose this combined dataframe serves but it felt fundamentally wrong not to use merge at least once in the final project."
   ]
  },
  {
   "cell_type": "code",
   "execution_count": 7,
   "metadata": {
    "scrolled": true
   },
   "outputs": [
    {
     "data": {
      "text/plain": [
       "business_id\n",
       "yaEVPxUONZ8_-68KGeq10w                      Smog Check Stations, Automotive\n",
       "I_RkxalxylAoseHesrgfJw    Bagels, Sandwiches, Breakfast & Brunch, Restau...\n",
       "07nPF_eLxc_tYSto8Ag1mQ    Skin Care, Eyebrow Services, Shopping, Cosmeti...\n",
       "5dy8OiWJty9AuxBcBzeBZQ                          Italian, Restaurants, Pizza\n",
       "Mt2Z7acTISziIRK87c91fw                               Massage, Beauty & Spas\n",
       "Hn7ZimIKh44w2POiRBgUFg    Health & Medical, Doctors, Family Practice, Wa...\n",
       "l0VsufoVXSr0EJg6Z9rv3Q    Family Practice, Dentists, Health & Medical, G...\n",
       "M5jKFdL0vLcBzdPh-mLnAQ    Bars, American (New), Restaurants, Nightlife, ...\n",
       "pV6v4W2cb88R8APIcEBuvQ                Sporting Goods, Shopping, Guns & Ammo\n",
       "7UE4N6ArCfLhOSISLXhGrg                              Automotive, Auto Repair\n",
       "Name: categories, dtype: object"
      ]
     },
     "execution_count": 7,
     "metadata": {},
     "output_type": "execute_result"
    }
   ],
   "source": [
    "#Due to large number of columns, 'categories' was not included in previous table. Here we look at that series specifically.\n",
    "businesses.categories.sample(10)"
   ]
  },
  {
   "cell_type": "markdown",
   "metadata": {},
   "source": [
    "So categories includes some very useful information, but unfortunately it is composed of strings seperated by commas, making it difficult to quickly filter"
   ]
  },
  {
   "cell_type": "code",
   "execution_count": 8,
   "metadata": {
    "scrolled": false
   },
   "outputs": [
    {
     "data": {
      "text/plain": [
       "Index(['address', 'attributes', 'attributes_AcceptsInsurance',\n",
       "       'attributes_AgesAllowed', 'attributes_Alcohol', 'attributes_Ambience',\n",
       "       'attributes_BYOB', 'attributes_BYOBCorkage', 'attributes_BestNights',\n",
       "       'attributes_BikeParking', 'attributes_BusinessAcceptsBitcoin',\n",
       "       'attributes_BusinessAcceptsCreditCards', 'attributes_BusinessParking',\n",
       "       'attributes_ByAppointmentOnly', 'attributes_Caters',\n",
       "       'attributes_CoatCheck', 'attributes_Corkage',\n",
       "       'attributes_DietaryRestrictions', 'attributes_DogsAllowed',\n",
       "       'attributes_DriveThru', 'attributes_GoodForDancing',\n",
       "       'attributes_GoodForKids', 'attributes_GoodForMeal',\n",
       "       'attributes_HairSpecializesIn', 'attributes_HappyHour',\n",
       "       'attributes_HasTV', 'attributes_Music', 'attributes_NoiseLevel',\n",
       "       'attributes_Open24Hours', 'attributes_OutdoorSeating',\n",
       "       'attributes_RestaurantsAttire', 'attributes_RestaurantsCounterService',\n",
       "       'attributes_RestaurantsDelivery', 'attributes_RestaurantsGoodForGroups',\n",
       "       'attributes_RestaurantsPriceRange2',\n",
       "       'attributes_RestaurantsReservations',\n",
       "       'attributes_RestaurantsTableService', 'attributes_RestaurantsTakeOut',\n",
       "       'attributes_Smoking', 'attributes_WheelchairAccessible',\n",
       "       'attributes_WiFi', 'categories', 'city', 'hours', 'hours_Friday',\n",
       "       'hours_Monday', 'hours_Saturday', 'hours_Sunday', 'hours_Thursday',\n",
       "       'hours_Tuesday', 'hours_Wednesday', 'is_open', 'latitude', 'longitude',\n",
       "       'name', 'neighborhood', 'postal_code', 'review_count', 'stars',\n",
       "       'state'],\n",
       "      dtype='object')"
      ]
     },
     "execution_count": 8,
     "metadata": {},
     "output_type": "execute_result"
    }
   ],
   "source": [
    "#There are a lot of column names that include a period. \n",
    "#In order to avoid confusion these shall be changed to an underscore instead\n",
    "fixedColumnNames = businesses.columns.str.replace('.', '_')\n",
    "fixedColumnNames"
   ]
  },
  {
   "cell_type": "code",
   "execution_count": 9,
   "metadata": {},
   "outputs": [],
   "source": [
    "#Now that the column names are fixed, we can assign them back to the dataframe\n",
    "businesses.columns = fixedColumnNames"
   ]
  },
  {
   "cell_type": "markdown",
   "metadata": {},
   "source": [
    "Determining if any tidying needs to be done to rating data..."
   ]
  },
  {
   "cell_type": "code",
   "execution_count": 10,
   "metadata": {
    "scrolled": false
   },
   "outputs": [
    {
     "data": {
      "image/png": "[encoded data removed]",
      "text/plain": [
       "<Figure size 432x288 with 1 Axes>"
      ]
     },
     "metadata": {},
     "output_type": "display_data"
    }
   ],
   "source": [
    "figure, axes = plt.subplots()\n",
    "axes.hist(businesses.stars, bins = 30)\n",
    "axes.set_title('Count of Businesses by Star Ratings')\n",
    "axes.set_xlabel('Stars')\n",
    "axes.set_ylabel('Counts of Occurance')\n",
    "plt.show()"
   ]
  },
  {
   "cell_type": "markdown",
   "metadata": {},
   "source": [
    "The above graph shows data within expected bounds. Does not appear to be any tidying required here either. Before we can proceed further we first we need to filter our data set to only include entries for restaurants. "
   ]
  },
  {
   "cell_type": "code",
   "execution_count": 11,
   "metadata": {},
   "outputs": [
    {
     "data": {
      "text/plain": [
       "107089"
      ]
     },
     "execution_count": 11,
     "metadata": {},
     "output_type": "execute_result"
    }
   ],
   "source": [
    "#The first way I accomplish this is to only use rows that have non-NA values in attributes_RestaurantsPriceRange2,\n",
    "#with the logic being that if there is a value here, then it stands that it is a restaurant. \n",
    "businessesPrice = businesses.dropna(subset=['attributes_RestaurantsPriceRange2', 'stars', 'categories']).copy()\n",
    "len(businessesPrice)"
   ]
  },
  {
   "cell_type": "code",
   "execution_count": 12,
   "metadata": {
    "scrolled": true
   },
   "outputs": [
    {
     "data": {
      "text/plain": [
       "57191"
      ]
     },
     "execution_count": 12,
     "metadata": {},
     "output_type": "execute_result"
    }
   ],
   "source": [
    "#Another way (that feels less like cheating) is to only include entries that have the word restaurant (either capitalized or not)\n",
    "#in the categories field. However this way leads to a little over half the entries as the previous way. \n",
    "businesses = businesses.dropna(subset=['categories']).copy()\n",
    "restaurants = businesses[businesses.loc[:,'categories'].str.contains(r'.*[Rr]estaurant.*')]\n",
    "len(restaurants)"
   ]
  },
  {
   "cell_type": "code",
   "execution_count": 13,
   "metadata": {
    "scrolled": true
   },
   "outputs": [
    {
     "data": {
      "text/plain": [
       "array(['Coffee & Tea, Food', 'Food, Bakeries',\n",
       "       'Flowers & Gifts, Gift Shops, Shopping',\n",
       "       'Shopping, Fashion, Department Stores',\n",
       "       'Food, Bakeries, Coffee & Tea'], dtype=object)"
      ]
     },
     "execution_count": 13,
     "metadata": {},
     "output_type": "execute_result"
    }
   ],
   "source": [
    "#Checking the entries that are in the first method's dataframe and not in the second dataframe. Specifically the category field\n",
    "missingRestaurants = businessesPrice[~businessesPrice.index.isin(restaurants.index)]\n",
    "missingRestaurants.categories.head().values"
   ]
  },
  {
   "cell_type": "markdown",
   "metadata": {},
   "source": [
    "From the above table we see that the first method is not 100% reliable, as it has included some businesses that are not restaurants nor sell food. This can be seen in the 4th row of the table, which shows the it is a department store. It has also shown, that some rows represent businesses that sell food that are not labeled with 'Restaurant' in the categories column. In order to include these, we shall add any that have the 'Food' tag in categories to the restaurant dataframe obtained via the second method above."
   ]
  },
  {
   "cell_type": "code",
   "execution_count": 14,
   "metadata": {},
   "outputs": [
    {
     "data": {
      "text/plain": [
       "71371"
      ]
     },
     "execution_count": 14,
     "metadata": {},
     "output_type": "execute_result"
    }
   ],
   "source": [
    "foodEntries = missingRestaurants[missingRestaurants.loc[:,'categories'].str.contains(r'.*[Ff]ood.*')]\n",
    "restaurantsClean = pd.concat([restaurants, foodEntries])\n",
    "len(restaurantsClean)"
   ]
  },
  {
   "cell_type": "code",
   "execution_count": 15,
   "metadata": {
    "scrolled": true
   },
   "outputs": [
    {
     "data": {
      "text/plain": [
       "array(['Flowers & Gifts, Gift Shops, Shopping',\n",
       "       'Shopping, Fashion, Department Stores',\n",
       "       'Shopping, Gardeners, Home Services, Nurseries & Gardening, Landscaping, Home & Garden, Landscape Architects',\n",
       "       'Health & Medical, Hair Salons, Skin Care, Hair Extensions, Medical Spas, Cryotherapy, Beauty & Spas',\n",
       "       'Home Services, Shopping, Home & Garden, Kitchen & Bath, Interior Design',\n",
       "       'Hair Salons, Beauty & Spas',\n",
       "       'Thrift Stores, Shopping, Used, Vintage & Consignment, Antiques, Fashion, Auction Houses',\n",
       "       'Pubs, Nightlife, Bars',\n",
       "       'Waxing, Nail Salons, Eyelash Service, Beauty & Spas, Hair Removal',\n",
       "       'Hair Salons, Beauty & Spas'], dtype=object)"
      ]
     },
     "execution_count": 15,
     "metadata": {},
     "output_type": "execute_result"
    }
   ],
   "source": [
    "#Just to confirm there are no more food selling businesses we are missing, the missingRestaurants comparision is performed again\n",
    "missingRestaurants2 = businessesPrice[~businessesPrice.index.isin(restaurantsClean.index)].copy()\n",
    "missingRestaurants2.categories.head(10).values"
   ]
  },
  {
   "cell_type": "markdown",
   "metadata": {},
   "source": [
    "After all this, we can be sure that no non-food selling businesses are in our restaurant dataframe. Now we can look at the price variable."
   ]
  },
  {
   "cell_type": "code",
   "execution_count": 16,
   "metadata": {
    "scrolled": false
   },
   "outputs": [
    {
     "data": {
      "image/png": "[encoded data removed]",
      "text/plain": [
       "<Figure size 432x288 with 1 Axes>"
      ]
     },
     "metadata": {},
     "output_type": "display_data"
    }
   ],
   "source": [
    "#Taking a look at the range of price values after dropping any NA values in price or star ratings.\n",
    "restaurantPrice = restaurantsClean.dropna(subset=['attributes_RestaurantsPriceRange2', 'stars']).copy()\n",
    "figure, axes = plt.subplots()\n",
    "axes.hist(restaurantPrice.attributes_RestaurantsPriceRange2, bins =[.8, 1.2, 1.8, 2.2, 2.8, 3.2, 3.8, 4.2])\n",
    "axes.set_title('Count of Restaurants by Price Range')\n",
    "axes.set_xlabel('Price Range')\n",
    "axes.set_ylabel('Counts of Occurance')\n",
    "axes.set_xticklabels(['0', '1', '', '2', '', '3', '', '4'])\n",
    "plt.show()"
   ]
  },
  {
   "cell_type": "code",
   "execution_count": 17,
   "metadata": {
    "scrolled": true
   },
   "outputs": [
    {
     "data": {
      "text/plain": [
       "numpy.float64"
      ]
     },
     "execution_count": 17,
     "metadata": {},
     "output_type": "execute_result"
    }
   ],
   "source": [
    "#Data looks pretty tidy already. Checking storage type of it...\n",
    "type(restaurantPrice.attributes_RestaurantsPriceRange2[0])"
   ]
  },
  {
   "cell_type": "code",
   "execution_count": 18,
   "metadata": {
    "scrolled": true
   },
   "outputs": [
    {
     "data": {
      "text/plain": [
       "numpy.int32"
      ]
     },
     "execution_count": 18,
     "metadata": {},
     "output_type": "execute_result"
    }
   ],
   "source": [
    "#From the graph we see that there are a large number of restaurants in the second price range category, but no values that are unexpected.\n",
    "#For some reason, they are stored as floats opposed to integers. This is changed here to save on resources.\n",
    "restaurantPrice.attributes_RestaurantsPriceRange2 = restaurantPrice.attributes_RestaurantsPriceRange2.astype(int)\n",
    "type(restaurantPrice.attributes_RestaurantsPriceRange2[0])"
   ]
  },
  {
   "cell_type": "code",
   "execution_count": 19,
   "metadata": {},
   "outputs": [],
   "source": [
    "#Now to determine what price range the new restaurant should sell its food at.\n",
    "restaurantByPrice = restaurantPrice.groupby('attributes_RestaurantsPriceRange2')"
   ]
  },
  {
   "cell_type": "code",
   "execution_count": 20,
   "metadata": {
    "scrolled": true
   },
   "outputs": [
    {
     "data": {
      "image/png": "[encoded data removed]",
      "text/plain": [
       "<Figure size 432x288 with 1 Axes>"
      ]
     },
     "metadata": {},
     "output_type": "display_data"
    }
   ],
   "source": [
    "#Here we take our grouped data and check the average rating for each price group\n",
    "figure, axes = plt.subplots()\n",
    "axes.plot(restaurantByPrice.attributes_RestaurantsPriceRange2.unique(), restaurantByPrice.stars.mean())\n",
    "axes.set_title('Price Range vs Average Rating')\n",
    "axes.set_xlabel('Price Range')\n",
    "axes.set_ylabel('Average Rating')\n",
    "axes.set_xticks([1, 2, 3, 4])\n",
    "axes.set_xticklabels(['\\$', '\\$ \\$', '\\$ \\$ \\$', '\\$ \\$ \\$ \\$'])\n",
    "plt.show('Price Range vs Average Rating')"
   ]
  },
  {
   "cell_type": "code",
   "execution_count": 21,
   "metadata": {},
   "outputs": [
    {
     "data": {
      "text/plain": [
       "attributes_RestaurantsPriceRange2\n",
       "1    3.464158\n",
       "2    3.520940\n",
       "3    3.577609\n",
       "4    3.570203\n",
       "Name: stars, dtype: float64"
      ]
     },
     "execution_count": 21,
     "metadata": {},
     "output_type": "execute_result"
    }
   ],
   "source": [
    "#Or in table form...\n",
    "restaurantByPrice.stars.mean()"
   ]
  },
  {
   "cell_type": "markdown",
   "metadata": {},
   "source": [
    "From the above graph, restaurants that sell food in the medium-high range are the most highly rated, but the difference is relatively minimal."
   ]
  },
  {
   "cell_type": "markdown",
   "metadata": {},
   "source": [
    "Every good restaurant has some sort of entertainment to keep the guests happy while they eat. Here we will explore what sort of entertainment this restaurant should have\n"
   ]
  },
  {
   "cell_type": "code",
   "execution_count": 22,
   "metadata": {},
   "outputs": [],
   "source": [
    "#First the average rating of restaurants with TVs will be explored.\n",
    "restaurantTV = restaurantsClean.dropna(subset=['attributes_HasTV', 'stars']).copy()"
   ]
  },
  {
   "cell_type": "code",
   "execution_count": 23,
   "metadata": {
    "scrolled": true
   },
   "outputs": [
    {
     "data": {
      "image/png": "[encoded data removed]",
      "text/plain": [
       "<Figure size 432x288 with 1 Axes>"
      ]
     },
     "metadata": {},
     "output_type": "display_data"
    }
   ],
   "source": [
    "#Group businesses into those that have TVs and those that dont, then look at their average ratings\n",
    "restaurantByTV = restaurantTV.groupby('attributes_HasTV')\n",
    "\n",
    "figure, axes = plt.subplots()\n",
    "axes.bar(restaurantByTV.attributes_HasTV.unique(), restaurantByTV.stars.mean(), color = 'br')\n",
    "axes.set_title('Presence of TVs vs Average Rating')\n",
    "axes.set_xlabel('TV Presence in Restaurants')\n",
    "axes.set_ylabel('Average Rating')\n",
    "axes.set_xticks([0, 1])\n",
    "axes.set_xticklabels(['Without TVs', 'With TVs'])\n",
    "axes.set_ybound(lower = 3.2)\n",
    "plt.show()"
   ]
  },
  {
   "cell_type": "code",
   "execution_count": 24,
   "metadata": {
    "scrolled": false
   },
   "outputs": [
    {
     "data": {
      "text/plain": [
       "attributes_HasTV\n",
       "False    3.469308\n",
       "True     3.481119\n",
       "Name: stars, dtype: float64"
      ]
     },
     "execution_count": 24,
     "metadata": {},
     "output_type": "execute_result"
    }
   ],
   "source": [
    "#That graph is very close but looks like the 'With TVs' section is a little higher rated. Lets look at the table to confirm.\n",
    "restaurantByTV.stars.mean()"
   ]
  },
  {
   "cell_type": "markdown",
   "metadata": {},
   "source": [
    "From the graph the difference in ratings between restaurants with and without TVs is very small. Just comparing the numbers, we see that those with TVs are very slightly higher rated, but the difference is very minimal. Since many restaurants have TVs and the difference is minimal, I have elected to contiue searching for a different entertainment method while customers eat."
   ]
  },
  {
   "cell_type": "code",
   "execution_count": 25,
   "metadata": {},
   "outputs": [],
   "source": [
    "#A restaurant that allows dogs would allow guests to enjoy the company of mans best friend while they eat.\n",
    "#Below this variable's relationship to average rating is analyzed.\n",
    "restaurantDogs = restaurantsClean.dropna(subset=['attributes_DogsAllowed', 'stars']).copy()\n",
    "restaurantByDogs = restaurantDogs.groupby('attributes_DogsAllowed')"
   ]
  },
  {
   "cell_type": "code",
   "execution_count": 26,
   "metadata": {
    "scrolled": true
   },
   "outputs": [
    {
     "data": {
      "image/png": "[encoded data removed]",
      "text/plain": [
       "<Figure size 432x288 with 1 Axes>"
      ]
     },
     "metadata": {},
     "output_type": "display_data"
    }
   ],
   "source": [
    "figure, axes = plt.subplots()\n",
    "axes.bar(restaurantByDogs.attributes_DogsAllowed.unique(), restaurantByDogs.stars.mean(), color = 'br')\n",
    "axes.set_title('Pet Policy vs Average Rating')\n",
    "axes.set_xlabel('Pet Policy in Restaurants')\n",
    "axes.set_ylabel('Average Rating')\n",
    "axes.set_xticks([0, 1])\n",
    "axes.set_xticklabels(['Dogs Not Allowed', 'Dogs Allowed'])\n",
    "axes.set_ybound(lower = 3.2)\n",
    "plt.show()"
   ]
  },
  {
   "cell_type": "markdown",
   "metadata": {},
   "source": [
    "Well that was an unlikely variable to show a difference. Lets double check the number of restaurants in each cateogry to ensure the results are statistically siginificant."
   ]
  },
  {
   "cell_type": "code",
   "execution_count": 27,
   "metadata": {},
   "outputs": [
    {
     "name": "stdout",
     "output_type": "stream",
     "text": [
      "Number with Dogs: 1647\n",
      "Number without Dogs: 6768\n"
     ]
    },
    {
     "data": {
      "text/plain": [
       "attributes_DogsAllowed\n",
       "False    3.737663\n",
       "True     3.929569\n",
       "Name: stars, dtype: float64"
      ]
     },
     "execution_count": 27,
     "metadata": {},
     "output_type": "execute_result"
    }
   ],
   "source": [
    "RestaurantsWithDogs = len(restaurantDogs[restaurantDogs.attributes_DogsAllowed == True])\n",
    "RestaurantsWithoutDogs = len(restaurantDogs[restaurantDogs.attributes_DogsAllowed == False])\n",
    "\n",
    "print(\"Number with Dogs: {}\\nNumber without Dogs: {}\".format(RestaurantsWithDogs, RestaurantsWithoutDogs))\n",
    "restaurantByDogs.stars.mean()"
   ]
  },
  {
   "cell_type": "markdown",
   "metadata": {},
   "source": [
    "So there are 1647 restaurants that allow dogs and 6768 that do not. These should be large enough quantities to make the results statistically significant.\n",
    "\n",
    "As the above graph shows, having pets is a much more highly rated form of entertainment for customers while they dine compared to TVs. For this reason, the new restaurant will feature friendly pet dogs that guests can interact with during their meals. I believe this will be much more unique and the data suggests will be more successful than traditional TV entertainment."
   ]
  },
  {
   "cell_type": "code",
   "execution_count": 32,
   "metadata": {
    "scrolled": true
   },
   "outputs": [
    {
     "data": {
      "image/png": "[encoded data removed]",
      "text/plain": [
       "<Figure size 432x288 with 1 Axes>"
      ]
     },
     "metadata": {},
     "output_type": "display_data"
    }
   ],
   "source": [
    "#Earlier it was shown that restaurants in the medium high price category had the best average rating. This may not be true in restaurants that are dog friendly.\n",
    "restaurantsDogsAllowed = restaurantsClean[restaurantsClean.attributes_DogsAllowed == True]\n",
    "restaurantDogsAllowedByPrice = restaurantsDogsAllowed.groupby('attributes_RestaurantsPriceRange2')\n",
    "\n",
    "figure, axes = plt.subplots()\n",
    "axes.plot(restaurantDogsAllowedByPrice.attributes_RestaurantsPriceRange2.unique(), restaurantDogsAllowedByPrice.stars.mean())\n",
    "axes.set_title('Price Range vs Average Rating in Dog Allowing Restaurants')\n",
    "axes.set_xlabel('Price Range')\n",
    "axes.set_ylabel('Average Rating')\n",
    "axes.set_xticks([1, 2, 3, 4])\n",
    "axes.set_xticklabels(['\\$', '\\$ \\$', '\\$ \\$ \\$', '\\$ \\$ \\$ \\$'])\n",
    "plt.show()"
   ]
  },
  {
   "cell_type": "markdown",
   "metadata": {},
   "source": [
    "Well I suppose I should have seen that comming. It stands to reason that the most popular restauraunts with dogs around would not be pricey, formal places. The uptick in ratings from the second to third price category is a little surprising, however."
   ]
  },
  {
   "cell_type": "markdown",
   "metadata": {},
   "source": [
    "Now the only thing left is where would this restaurant best be located. In order to do this, we shall look at longitude and latitude data."
   ]
  },
  {
   "cell_type": "code",
   "execution_count": 29,
   "metadata": {
    "scrolled": true
   },
   "outputs": [
    {
     "name": "stderr",
     "output_type": "stream",
     "text": [
      "E:\\Program Files\\Anaconda\\lib\\site-packages\\ipykernel_launcher.py:6: UserWarning: Boolean Series key will be reindexed to match DataFrame index.\n",
      "  \n"
     ]
    }
   ],
   "source": [
    "#Filtering out NA values from all meaningful columns for this graph.\n",
    "locations = restaurantsClean.dropna(subset=['attributes_DogsAllowed', 'attributes_RestaurantsPriceRange2', 'stars', 'longitude', 'latitude']).copy()\n",
    "\n",
    "#Only including restaurant entries where dogs are allowed, and the average rating is over 3\n",
    "locationsClean = locations[locations.attributes_DogsAllowed == True]\n",
    "locationsClean = locationsClean[locations.stars > 3]"
   ]
  },
  {
   "cell_type": "code",
   "execution_count": 30,
   "metadata": {},
   "outputs": [
    {
     "data": {
      "image/png": "[encoded data removed]",
      "text/plain": [
       "<Figure size 432x288 with 2 Axes>"
      ]
     },
     "metadata": {},
     "output_type": "display_data"
    }
   ],
   "source": [
    "figure, axes = plt.subplots()\n",
    "results = axes.hexbin(locations.longitude, locations.latitude, cmap='bwr', gridsize=20, mincnt=2, alpha=.7)\n",
    "axes.set_xlabel('Longitude')\n",
    "axes.set_ylabel('Latitude')\n",
    "axes.set_title('Concentration of Highly-Rated, Dog-Allowing Restaurants')\n",
    "figure.colorbar(results, label='Count of Occurence')\n",
    "plt.show()"
   ]
  },
  {
   "cell_type": "code",
   "execution_count": 31,
   "metadata": {},
   "outputs": [
    {
     "data": {
      "image/png": "[encoded data removed]",
      "text/plain": [
       "<Figure size 504x504 with 2 Axes>"
      ]
     },
     "metadata": {},
     "output_type": "display_data"
    }
   ],
   "source": [
    "#While this graph gives us a rough idea of where to set up the restaurant, since it is so zoomed out, it is hard to pinpoint an ideal spot.\n",
    "#In order to be more precise, the graph should be zoomed in on those areas most likely.\n",
    "#In this case the top right area is looked at more closely\n",
    "\n",
    "figure, axes = plt.subplots()\n",
    "results = axes.hexbin(locations.longitude, locations.latitude, cmap='bwr', gridsize=80, mincnt=2, alpha=.7)\n",
    "axes.set_xlabel('Longitude')\n",
    "axes.set_ylabel('Latitude')\n",
    "axes.set_title('Concentration of Highly-Rated, Dog-Allowing Restaurants')\n",
    "figure.colorbar(results, label='Count of Occurences')\n",
    "axes.set_xbound(-120, -70)\n",
    "axes.set_ybound(30, 50)\n",
    "figure.set_size_inches(7,7)\n",
    "axes.text(-80.2, 43.4, '1', size = 16, color = 'powderblue')\n",
    "axes.text(-112.5, 33.7, '2', size = 15, color = 'mediumblue')\n",
    "axes.text(-115.9, 35.6, '3', size = 15, color = 'midnightblue')\n",
    "plt.show()"
   ]
  },
  {
   "cell_type": "markdown",
   "metadata": {},
   "source": [
    "Based on the above graph, there are three ideal locations. Looking up the longitude/latitude values, the most ideal locations are: \n",
    "1. Toronto, Canada\n",
    "2. Phoenix, Arizona, USA\n",
    "3. Las Vegas, Nevada, USA"
   ]
  },
  {
   "cell_type": "markdown",
   "metadata": {},
   "source": [
    "Although Toronto tops the list, it seems unwise to start this restaurant in a cold climate, where they cannot be open air year round. Non-open air restaurants may cause the smell of the dogs to interfere with the dining experience. For this reason, I suggest the restaurant be located in Pheonix, AZ. In addition I am not a fan of cold weather so Toronto would interfere with my happiness and ability to remain a cheery restaurant manager. As far as pricing, the data shows that restaurants that fall under the \"\\$\" or \"inexpensive\" section are most highly reviewed. From Yelp's website this corresponds to items that are priced 10 dollars or less. Items at this new restaurant should be priced in this range."
   ]
  },
  {
   "cell_type": "code",
   "execution_count": null,
   "metadata": {},
   "outputs": [],
   "source": []
  }
 ],
 "metadata": {
  "kernelspec": {
   "display_name": "Python 3",
   "language": "python",
   "name": "python3"
  },
  "language_info": {
   "codemirror_mode": {
    "name": "ipython",
    "version": 3
   },
   "file_extension": ".py",
   "mimetype": "text/x-python",
   "name": "python",
   "nbconvert_exporter": "python",
   "pygments_lexer": "ipython3",
   "version": "3.6.5"
  }
 },
 "nbformat": 4,
 "nbformat_minor": 2
}
